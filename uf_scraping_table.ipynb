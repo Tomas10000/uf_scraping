{
 "cells": [
  {
   "cell_type": "code",
   "execution_count": 1,
   "metadata": {},
   "outputs": [
    {
     "name": "stdout",
     "output_type": "stream",
     "text": [
      "    DÃ­a     Enero   Febrero     Marzo     Abril  Mayo  Junio  Julio  Agosto  \\\n",
      "0      1  29.06939  29.12655  29.29468  29.39667   NaN    NaN    NaN     NaN   \n",
      "1      2  29.06846  29.12937  29.30198  29.39856   NaN    NaN    NaN     NaN   \n",
      "2      3  29.06752  29.13218  29.30928  29.40045   NaN    NaN    NaN     NaN   \n",
      "3      4  29.06658  29.13500  29.31658  29.40235   NaN    NaN    NaN     NaN   \n",
      "4      5  29.06564  29.13781  29.32389  29.40424   NaN    NaN    NaN     NaN   \n",
      "5      6  29.06470  29.14063  29.33119  29.40614   NaN    NaN    NaN     NaN   \n",
      "6      7  29.06376  29.14344  29.33850  29.40804   NaN    NaN    NaN     NaN   \n",
      "7      8  29.06283  29.14626  29.34581  29.40993   NaN    NaN    NaN     NaN   \n",
      "8      9  29.06189  29.14908  29.35312  29.41183   NaN    NaN    NaN     NaN   \n",
      "9     10  29.06470  29.15634  29.35501       NaN   NaN    NaN    NaN     NaN   \n",
      "10    11  29.06751  29.16361  29.35690       NaN   NaN    NaN    NaN     NaN   \n",
      "11    12  29.07032  29.17087  29.35880       NaN   NaN    NaN    NaN     NaN   \n",
      "12    13  29.07313  29.17814  29.36069       NaN   NaN    NaN    NaN     NaN   \n",
      "13    14  29.07593  29.18541  29.36258       NaN   NaN    NaN    NaN     NaN   \n",
      "14    15  29.07874  29.19268  29.36447       NaN   NaN    NaN    NaN     NaN   \n",
      "15    16  29.08155  29.19996  29.36637       NaN   NaN    NaN    NaN     NaN   \n",
      "16    17  29.08436  29.20723  29.36826       NaN   NaN    NaN    NaN     NaN   \n",
      "17    18  29.08718  29.21451  29.37015       NaN   NaN    NaN    NaN     NaN   \n",
      "18    19  29.08999  29.22179  29.37204       NaN   NaN    NaN    NaN     NaN   \n",
      "19    20  29.09280  29.22907  29.37394       NaN   NaN    NaN    NaN     NaN   \n",
      "20    21  29.09561  29.23635  29.37583       NaN   NaN    NaN    NaN     NaN   \n",
      "21    22  29.09842  29.24364  29.37772       NaN   NaN    NaN    NaN     NaN   \n",
      "22    23  29.10123  29.25092  29.37962       NaN   NaN    NaN    NaN     NaN   \n",
      "23    24  29.10404  29.25821  29.38151       NaN   NaN    NaN    NaN     NaN   \n",
      "24    25  29.10686  29.26550  29.38341       NaN   NaN    NaN    NaN     NaN   \n",
      "25    26  29.10967  29.27279  29.38530       NaN   NaN    NaN    NaN     NaN   \n",
      "26    27  29.11248  29.28009  29.38719       NaN   NaN    NaN    NaN     NaN   \n",
      "27    28  29.11530  29.28738  29.38909       NaN   NaN    NaN    NaN     NaN   \n",
      "28    29  29.11811       NaN  29.39098       NaN   NaN    NaN    NaN     NaN   \n",
      "29    30  29.12092       NaN  29.39288       NaN   NaN    NaN    NaN     NaN   \n",
      "30    31  29.12374       NaN  29.39477       NaN   NaN    NaN    NaN     NaN   \n",
      "\n",
      "    Septiembre  Octubre  Noviembre  Diciembre  \n",
      "0          NaN      NaN        NaN        NaN  \n",
      "1          NaN      NaN        NaN        NaN  \n",
      "2          NaN      NaN        NaN        NaN  \n",
      "3          NaN      NaN        NaN        NaN  \n",
      "4          NaN      NaN        NaN        NaN  \n",
      "5          NaN      NaN        NaN        NaN  \n",
      "6          NaN      NaN        NaN        NaN  \n",
      "7          NaN      NaN        NaN        NaN  \n",
      "8          NaN      NaN        NaN        NaN  \n",
      "9          NaN      NaN        NaN        NaN  \n",
      "10         NaN      NaN        NaN        NaN  \n",
      "11         NaN      NaN        NaN        NaN  \n",
      "12         NaN      NaN        NaN        NaN  \n",
      "13         NaN      NaN        NaN        NaN  \n",
      "14         NaN      NaN        NaN        NaN  \n",
      "15         NaN      NaN        NaN        NaN  \n",
      "16         NaN      NaN        NaN        NaN  \n",
      "17         NaN      NaN        NaN        NaN  \n",
      "18         NaN      NaN        NaN        NaN  \n",
      "19         NaN      NaN        NaN        NaN  \n",
      "20         NaN      NaN        NaN        NaN  \n",
      "21         NaN      NaN        NaN        NaN  \n",
      "22         NaN      NaN        NaN        NaN  \n",
      "23         NaN      NaN        NaN        NaN  \n",
      "24         NaN      NaN        NaN        NaN  \n",
      "25         NaN      NaN        NaN        NaN  \n",
      "26         NaN      NaN        NaN        NaN  \n",
      "27         NaN      NaN        NaN        NaN  \n",
      "28         NaN      NaN        NaN        NaN  \n",
      "29         NaN      NaN        NaN        NaN  \n",
      "30         NaN      NaN        NaN        NaN  \n"
     ]
    }
   ],
   "source": [
    "###Read any table in webpage\n",
    "import pandas as pd\n",
    "#url \n",
    "url =\"https://si3.bcentral.cl/indicadoressiete/secure/Serie.aspx?gcode=UF&param=RABmAFYAWQB3AGYAaQBuAEkALQAzADUAbgBNAGgAaAAkADUAVwBQAC4AbQBYADAARwBOAGUAYwBjACMAQQBaAHAARgBhAGcAUABTAGUAYwBsAEMAMQA0AE0AawBLAF8AdQBDACQASABzAG0AXwA2AHQAawBvAFcAZwBKAEwAegBzAF8AbgBMAHIAYgBDAC4ARQA3AFUAVwB4AFIAWQBhAEEAOABkAHkAZwAxAEEARAA=\"\n",
    "df_list = pd.read_html(url)\n",
    "\n",
    "##load 2nd table \n",
    "df = df_list[1]\n",
    "print(df)"
   ]
  },
  {
   "cell_type": "code",
   "execution_count": null,
   "metadata": {},
   "outputs": [],
   "source": []
  }
 ],
 "metadata": {
  "kernelspec": {
   "display_name": "Python 3",
   "language": "python",
   "name": "python3"
  },
  "language_info": {
   "codemirror_mode": {
    "name": "ipython",
    "version": 3
   },
   "file_extension": ".py",
   "mimetype": "text/x-python",
   "name": "python",
   "nbconvert_exporter": "python",
   "pygments_lexer": "ipython3",
   "version": "3.8.5"
  }
 },
 "nbformat": 4,
 "nbformat_minor": 4
}
